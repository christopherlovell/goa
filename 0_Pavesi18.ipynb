{
 "cells": [
  {
   "cell_type": "markdown",
   "metadata": {},
   "source": [
    "## Example application\n",
    "\n",
    "The following notebook runs through the application of the pipeline in [Lovell et al. 17](https://arxiv.org/abs/1710.02148v1) to an observed overdensity. Here we look at CRLE from [Pavesi et al. 18](http://adsabs.harvard.edu/abs/2018arXiv180308048P).\n",
    "\n",
    "First, load some standard modules."
   ]
  },
  {
   "cell_type": "code",
   "execution_count": 1,
   "metadata": {
    "collapsed": true
   },
   "outputs": [],
   "source": [
    "import pandas as pd\n",
    "import numpy as np\n",
    "import pickle as pcl\n",
    "\n",
    "%matplotlib inline\n",
    "import matplotlib.pyplot as plt\n",
    "import matplotlib.gridspec as gridspec\n",
    "import matplotlib.patches as mpatches\n",
    "from matplotlib import rc\n",
    "rc('font',**{'family':'sans-serif','sans-serif':['Helvetica']})\n",
    "rc('text', usetex=True)"
   ]
  },
  {
   "cell_type": "markdown",
   "metadata": {},
   "source": [
    "Before we start we need to download galaxy catalogues from a cosmological simulation. Here, as in Lovell+17, we use the L-Galaxies SAM results from the nearest snapshot. An example query script is shown in the `queries/` folder."
   ]
  },
  {
   "cell_type": "code",
   "execution_count": 2,
   "metadata": {
    "collapsed": true
   },
   "outputs": [],
   "source": [
    "h = 0.673\n",
    "L = 480.279 / h # box side length\n",
    "\n",
    "directory = '/lustre/scratch/astro/cl478/protoclusters_data/'\n",
    "out_directory = 'output/'\n",
    "\n",
    "redshifts = ['5p92']#, '2p44']\n",
    "zees = [float(z.replace('p','.')) for z in redshifts]"
   ]
  },
  {
   "cell_type": "markdown",
   "metadata": {},
   "source": [
    "Import catalogues, apply z-distortion and h factor correction"
   ]
  },
  {
   "cell_type": "code",
   "execution_count": 149,
   "metadata": {
    "collapsed": true
   },
   "outputs": [],
   "source": [
    "from methods import z_distort, factor_h\n",
    "\n",
    "gals = z_distort(factor_h(pd.read_csv('%shenriques2015a_z%s_sfr_r200.csv'%(directory,redshifts[0]), \n",
    "                                skiprows=122, skipfooter=1, engine='python'), h), zees[0], L)\n",
    "\n",
    "gals = gals[gals['zn_sfr'] > 10]"
   ]
  },
  {
   "cell_type": "markdown",
   "metadata": {},
   "source": [
    "Overdensity details"
   ]
  },
  {
   "cell_type": "code",
   "execution_count": 150,
   "metadata": {
    "collapsed": true
   },
   "outputs": [],
   "source": [
    "obs = pd.DataFrame()\n",
    "obs = obs.append({'name': 'CRLE', 'z': 5.667, 'dz': 0.03, 'R': 12.0, \n",
    "                  'delta_g': None, 'delta_g_err': None, 'D': None}, ignore_index=True)\n",
    "\n",
    "# obs"
   ]
  },
  {
   "cell_type": "markdown",
   "metadata": {},
   "source": [
    "Choose a candidate"
   ]
  },
  {
   "cell_type": "code",
   "execution_count": 151,
   "metadata": {
    "collapsed": true
   },
   "outputs": [],
   "source": [
    "candidate = obs.loc[0]"
   ]
  },
  {
   "cell_type": "code",
   "execution_count": 152,
   "metadata": {},
   "outputs": [
    {
     "name": "stderr",
     "output_type": "stream",
     "text": [
      "/mnt/pact/cl478/protoclusters/protoclusters/lib/python2.7/site-packages/ipykernel_launcher.py:4: SettingWithCopyWarning: \n",
      "A value is trying to be set on a copy of a slice from a DataFrame\n",
      "\n",
      "See the caveats in the documentation: http://pandas.pydata.org/pandas-docs/stable/indexing.html#indexing-view-versus-copy\n",
      "  after removing the cwd from sys.path.\n"
     ]
    },
    {
     "data": {
      "text/plain": [
       "D              13.5733\n",
       "R                   12\n",
       "delta_g           None\n",
       "delta_g_err       None\n",
       "dz                0.03\n",
       "name              CRLE\n",
       "z                5.667\n",
       "Name: 0, dtype: object"
      ]
     },
     "execution_count": 152,
     "metadata": {},
     "output_type": "execute_result"
    }
   ],
   "source": [
    "from astropy.cosmology import FlatLambdaCDM\n",
    "cosmo = FlatLambdaCDM(H0=70, Om0=0.3)\n",
    "\n",
    "candidate['D'] = (cosmo.comoving_distance(candidate['z']+candidate['dz']/2) - \\\n",
    "                   cosmo.comoving_distance(candidate['z']-candidate['dz']/2)).value\n",
    "\n",
    "candidate"
   ]
  },
  {
   "cell_type": "markdown",
   "metadata": {},
   "source": [
    "### Find protocluster coordinates. \n",
    "\n",
    "The `get_protoclusters` method returns coordinates, central subhalo Id's and  descendant $M_{200}$ masses for all objects above `cluster_lim`. Here, we choose all group mass objects."
   ]
  },
  {
   "cell_type": "code",
   "execution_count": 153,
   "metadata": {
    "collapsed": true
   },
   "outputs": [],
   "source": [
    "from methods import get_protoclusters\n",
    "\n",
    "group_coods = get_protoclusters(gals, L, cluster_lim=1e3)"
   ]
  },
  {
   "cell_type": "markdown",
   "metadata": {},
   "source": [
    "### Find limiting completeness and purity\n",
    "\n",
    "The method `overdensity_cylinder` finds the completeness and purity of the galaxy population surrounding each protocluster, which can be used to define $C_{lim}$ and $P_{lim}$."
   ]
  },
  {
   "cell_type": "code",
   "execution_count": 154,
   "metadata": {},
   "outputs": [],
   "source": [
    "from methods import overdensity_cylinder\n",
    "\n",
    "pc_mask = group_coods['clusters']['z0_central_mcrit200'].values > 1e4\n",
    "\n",
    "c_p = overdensity_cylinder(gals, group_coods['coods'], \n",
    "                        R=candidate['R'], dc=candidate['D'] / 2, L=L, pc_stats=True)"
   ]
  },
  {
   "cell_type": "code",
   "execution_count": 178,
   "metadata": {},
   "outputs": [
    {
     "name": "stdout",
     "output_type": "stream",
     "text": [
      "Clim (5th, median, 95th): [ 1.   1.   0.8] \n",
      "Plim (5th, median, 95th): [ 1.     0.913  0.4  ]\n"
     ]
    }
   ],
   "source": [
    "clim = np.round(np.percentile(c_p[pc_mask,1], [95,50,5]),3)\n",
    "plim = np.round(np.percentile(c_p[pc_mask,2], [95,50,5]),3)\n",
    "\n",
    "print \"Clim (5th, median, 95th):\", clim, \"\\nPlim (5th, median, 95th):\", plim\n",
    "\n",
    "dgal = c_p[:,0]\n",
    "cmass = group_coods['clusters']['z0_central_mcrit200'].values"
   ]
  },
  {
   "cell_type": "markdown",
   "metadata": {},
   "source": [
    "### Random region stats\n",
    "\n",
    "Generate `N` random coordinates within the simulation volume."
   ]
  },
  {
   "cell_type": "code",
   "execution_count": 177,
   "metadata": {
    "collapsed": true
   },
   "outputs": [],
   "source": [
    "N = 50000   # number of random regions\n",
    "coods = pd.DataFrame(np.random.rand(N,3) * L, columns=['zn_x','zn_y','zn_z'])"
   ]
  },
  {
   "cell_type": "markdown",
   "metadata": {},
   "source": [
    "Calculate overdensity and completeness / purity of each random region.\n",
    "\n",
    "The `overdensity_cylinder` method takes a dataframe of galaxy properties, and a dataframe of coordinates, and calculates $\\delta_{g}$, $C_{lim}$ and $P_{lim}$ for each region.\n",
    "\n",
    "**Warning:** can take a while for > 10000 regions"
   ]
  },
  {
   "cell_type": "code",
   "execution_count": 179,
   "metadata": {},
   "outputs": [],
   "source": [
    "stats = overdensity_cylinder(gals, coods, R=candidate['R'], dc=candidate['D'] / 2, L=L, pc_stats=True)"
   ]
  },
  {
   "cell_type": "markdown",
   "metadata": {},
   "source": [
    "Average number in aperture"
   ]
  },
  {
   "cell_type": "code",
   "execution_count": 180,
   "metadata": {},
   "outputs": [
    {
     "name": "stderr",
     "output_type": "stream",
     "text": [
      "/mnt/pact/cl478/protoclusters/protoclusters/lib/python2.7/site-packages/ipykernel_launcher.py:2: SettingWithCopyWarning: \n",
      "A value is trying to be set on a copy of a slice from a DataFrame\n",
      "\n",
      "See the caveats in the documentation: http://pandas.pydata.org/pandas-docs/stable/indexing.html#indexing-view-versus-copy\n",
      "  \n",
      "/mnt/pact/cl478/protoclusters/protoclusters/lib/python2.7/site-packages/ipykernel_launcher.py:5: SettingWithCopyWarning: \n",
      "A value is trying to be set on a copy of a slice from a DataFrame\n",
      "\n",
      "See the caveats in the documentation: http://pandas.pydata.org/pandas-docs/stable/indexing.html#indexing-view-versus-copy\n",
      "  \"\"\"\n"
     ]
    },
    {
     "data": {
      "text/plain": [
       "D               13.5733\n",
       "R                    12\n",
       "delta_g         2.92198\n",
       "delta_g_err        None\n",
       "dz                 0.03\n",
       "name               CRLE\n",
       "z                 5.667\n",
       "delta_g_more    4.88296\n",
       "Name: 0, dtype: object"
      ]
     },
     "execution_count": 180,
     "metadata": {},
     "output_type": "execute_result"
    }
   ],
   "source": [
    "N = 4\n",
    "candidate['delta_g'] = (N / (gals.shape[0] / L**3 * np.pi * candidate['R']**2 * candidate['D'])) - 1\n",
    "\n",
    "N = 6\n",
    "candidate['delta_g_more'] = (N / (gals.shape[0] / L**3 * np.pi * candidate['R']**2 * candidate['D'])) - 1\n",
    "\n",
    "candidate"
   ]
  },
  {
   "cell_type": "markdown",
   "metadata": {},
   "source": [
    "Label each random region based on the 5th percentile of the completeness and purity of the protocluster population (`clim` and `plim` calculated previously)."
   ]
  },
  {
   "cell_type": "code",
   "execution_count": 181,
   "metadata": {
    "collapsed": true
   },
   "outputs": [],
   "source": [
    "from methods import label\n",
    "\n",
    "labs, labels = label(stats, clim=clim[2], plim=plim[2])"
   ]
  },
  {
   "cell_type": "markdown",
   "metadata": {},
   "source": [
    "Bin labels by overdensity"
   ]
  },
  {
   "cell_type": "code",
   "execution_count": 186,
   "metadata": {
    "collapsed": true
   },
   "outputs": [],
   "source": [
    "from methods import binit\n",
    "\n",
    "n = 26\n",
    "minimum = 10\n",
    "\n",
    "bins, binLimits, agg, agg_total, fracs = binit(stats, labs, labels, N=n, minimum=minimum)"
   ]
  },
  {
   "cell_type": "markdown",
   "metadata": {},
   "source": [
    "### Protocluster probability\n",
    "\n",
    "Calculate protocluster probability for the observational overdensity by finding the ratio of Proto + PartProto regions to Field +  ProtoField regions with that overdensity."
   ]
  },
  {
   "cell_type": "code",
   "execution_count": 187,
   "metadata": {},
   "outputs": [
    {
     "data": {
      "text/plain": [
       "0.086225680933852134"
      ]
     },
     "execution_count": 187,
     "metadata": {},
     "output_type": "execute_result"
    }
   ],
   "source": [
    "bin_idx = np.where(candidate['delta_g'] > bins)[0].max()\n",
    "\n",
    "protocluster_labels = labels[:4]\n",
    "\n",
    "proto_fractions = np.nansum([fracs[l] for l in protocluster_labels], axis=0)\n",
    "\n",
    "Pdgal = proto_fractions[bin_idx]\n",
    "Pdgal"
   ]
  },
  {
   "cell_type": "markdown",
   "metadata": {},
   "source": [
    "### Descendant mass\n",
    "\n",
    "Estimate descendant mass from overdensity fit, and quote coefficient of determination.\n",
    "\n",
    "`dgal_threshold` defines the threshold overdensity above which to fit. This is chosen rather arbitrarily, but should be sufficiently far from the bulk of the overdensity measurements below the cluster mass threshold."
   ]
  },
  {
   "cell_type": "code",
   "execution_count": 188,
   "metadata": {},
   "outputs": [
    {
     "name": "stdout",
     "output_type": "stream",
     "text": [
      "R2: 0.263 \n",
      "Mdesc: 14.408\n"
     ]
    }
   ],
   "source": [
    "from scipy.optimize import curve_fit\n",
    "from methods import fit_func, r2\n",
    "\n",
    "dgal_threshold = np.mean(dgal[cmass > 1e4]) + 10.5\n",
    "\n",
    "fit_mask = dgal > dgal_threshold\n",
    "\n",
    "x = np.zeros((dgal.shape[0], 2))  # create feature array\n",
    "\n",
    "x[:,0] = dgal\n",
    "x[:,1] = candidate['z']\n",
    "\n",
    "popt, pcov = curve_fit(fit_func, x[fit_mask,:].T, cmass[fit_mask], maxfev=20000)\n",
    "\n",
    "R2 = r2(cmass[fit_mask], fit_func(x[fit_mask,:].T, popt[0], popt[1], popt[2], popt[3]))\n",
    "Mdesc = np.log10(fit_func(np.array([candidate['delta_g'], candidate['z']]), \n",
    "                  popt[0], popt[1], popt[2], popt[3]) * 1e10)\n",
    "\n",
    "print \"R2:\", round(R2, 3), \"\\nMdesc:\", round(Mdesc, 3)"
   ]
  },
  {
   "cell_type": "markdown",
   "metadata": {},
   "source": [
    "## Plot\n",
    "\n",
    "Plot of the probability distribution for the labelled random regions, and the fitted overdensity-descendant mass relation"
   ]
  },
  {
   "cell_type": "code",
   "execution_count": 189,
   "metadata": {},
   "outputs": [
    {
     "data": {
      "image/png": "[encoded data removed]",
      "text/plain": [
       "<matplotlib.figure.Figure at 0x2aab1b33ec10>"
      ]
     },
     "metadata": {},
     "output_type": "display_data"
    }
   ],
   "source": [
    "from methods import plotit\n",
    "\n",
    "fig = plt.figure(figsize=(5,8))\n",
    "\n",
    "gs = gridspec.GridSpec(2,1)\n",
    "gs.update(hspace=0, wspace=0)\n",
    "\n",
    "ax1 = fig.add_subplot(gs[0,0])\n",
    "ax2 = fig.add_subplot(gs[1,0])\n",
    "\n",
    "textsize=18\n",
    "\n",
    "plotit(ax1, stats, axb=None, N=n, clim=clim[2], plim=plim[2], minimum=minimum);\n",
    "\n",
    "ax2.plot(dgal + 1, np.log10(cmass * 1e10), '.', markersize=1);\n",
    "\n",
    "ax2.set_ylim(13., 15.9)\n",
    "\n",
    "for ax in [ax1,ax2]:\n",
    "    \n",
    "    ax.vlines(candidate['delta_g'] + 1, ax.get_ylim()[0], ax.get_ylim()[1], \n",
    "              linestyle='dotted', color='red', zorder=10)\n",
    "    \n",
    "    ax.vlines(candidate['delta_g_more'] + 1, ax.get_ylim()[0], ax.get_ylim()[1], \n",
    "              linestyle='dotted', color='red', zorder=10)\n",
    "    \n",
    "#     ax.axvspan(candidate['delta_g'] - candidate['delta_g_err']+1, \n",
    "#                candidate['delta_g'] + candidate['delta_g_err']+1, \n",
    "#                color='red', alpha=0.1, zorder=10)\n",
    "\n",
    "\n",
    "ax2.hlines(14, 0, ax2.get_xlim()[1], linestyle='dashed', alpha=0.5, zorder=10);\n",
    "\n",
    "## Plot fit\n",
    "\n",
    "def scale(x):\n",
    "    return np.log10(x * 1e10)\n",
    "\n",
    "dgal_range = np.linspace(dgal_threshold, dgal.max(), 100)\n",
    "\n",
    "ax.vlines(dgal_threshold + 1, ax.get_ylim()[0], ax.get_ylim()[1], linestyle='dotted')\n",
    "\n",
    "ax.plot(dgal_range+1, scale(fit_func(np.vstack([dgal_range, np.full(len(dgal_range), x[0,1])]),\n",
    "                             popt[0], popt[1], popt[2], popt[3])))\n",
    "\n",
    "\n",
    "ax1.set_xticklabels([])\n",
    "ax2.set_xlabel('$\\delta_{g} + 1$', size=textsize)\n",
    "\n",
    "ax1.set_ylabel('$f$', size=textsize)\n",
    "ax2.set_ylabel('$\\mathrm{log_{10}}(M_{200} / M_{\\odot})$', size=textsize)\n",
    "\n",
    "ax1.text(0.05, 0.88, candidate['name'], transform=ax1.transAxes, size=textsize, alpha=0.6)\n",
    "\n",
    "for ax in [ax1, ax2]:\n",
    "    ax.set_xlim(0, max(candidate['delta_g'] + 2, np.max(dgal) + 1))\n"
   ]
  },
  {
   "cell_type": "code",
   "execution_count": null,
   "metadata": {
    "collapsed": true
   },
   "outputs": [],
   "source": []
  }
 ],
 "metadata": {
  "kernelspec": {
   "display_name": "Python 2",
   "language": "python",
   "name": "python2"
  },
  "language_info": {
   "codemirror_mode": {
    "name": "ipython",
    "version": 2
   },
   "file_extension": ".py",
   "mimetype": "text/x-python",
   "name": "python",
   "nbconvert_exporter": "python",
   "pygments_lexer": "ipython2",
   "version": "2.7.12"
  }
 },
 "nbformat": 4,
 "nbformat_minor": 2
}
